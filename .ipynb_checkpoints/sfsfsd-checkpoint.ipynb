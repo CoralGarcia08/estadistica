{
 "cells": [
  {
   "cell_type": "code",
   "execution_count": 1,
   "id": "810bbb77",
   "metadata": {},
   "outputs": [],
   "source": [
    "# Carga de librerías\n",
    "\n",
    "import pandas as pd\n",
    "import numpy as np\n",
    "import matplotlib.pyplot as plt\n",
    "import seaborn as sns\n",
    "from scipy.stats import mode, skew, kurtosis, t\n",
    "from scipy.stats import kstest, norm\n",
    "from scipy.stats import shapiro"
   ]
  },
  {
   "cell_type": "code",
   "execution_count": 8,
   "id": "f1828f4f",
   "metadata": {},
   "outputs": [
    {
     "data": {
      "text/plain": [
       "'C:\\\\Users\\\\Coral\\\\Desktop\\\\Master\\\\Estadistica\\\\Documentacion_estadistica'"
      ]
     },
     "execution_count": 8,
     "metadata": {},
     "output_type": "execute_result"
    }
   ],
   "source": [
    "directorio"
   ]
  },
  {
   "cell_type": "code",
   "execution_count": 7,
   "id": "2084a0bd",
   "metadata": {},
   "outputs": [
    {
     "ename": "FileNotFoundError",
     "evalue": "[Errno 2] No such file or directory: 'C:\\\\Users\\\\Coral\\\\Desktop\\\\Master\\\\Estadistica\\\\Documentacion_estadistica\\\\datosejercicioevaluacionanchuras.xlsx'",
     "output_type": "error",
     "traceback": [
      "\u001b[1;31m---------------------------------------------------------------------------\u001b[0m",
      "\u001b[1;31mFileNotFoundError\u001b[0m                         Traceback (most recent call last)",
      "Cell \u001b[1;32mIn[7], line 5\u001b[0m\n\u001b[0;32m      3\u001b[0m directorio \u001b[38;5;241m=\u001b[39m os\u001b[38;5;241m.\u001b[39mgetcwd()\n\u001b[0;32m      4\u001b[0m ruta \u001b[38;5;241m=\u001b[39m os\u001b[38;5;241m.\u001b[39mpath\u001b[38;5;241m.\u001b[39mjoin(directorio, \u001b[38;5;124m\"\u001b[39m\u001b[38;5;124mdatosejercicioevaluacionanchuras.xlsx\u001b[39m\u001b[38;5;124m\"\u001b[39m)\n\u001b[1;32m----> 5\u001b[0m datos \u001b[38;5;241m=\u001b[39m pd\u001b[38;5;241m.\u001b[39mread_excel(ruta)\n\u001b[0;32m      6\u001b[0m \u001b[38;5;28mprint\u001b[39m(datos\u001b[38;5;241m.\u001b[39mhead())\n",
      "File \u001b[1;32m~\\anaconda3\\Lib\\site-packages\\pandas\\io\\excel\\_base.py:478\u001b[0m, in \u001b[0;36mread_excel\u001b[1;34m(io, sheet_name, header, names, index_col, usecols, dtype, engine, converters, true_values, false_values, skiprows, nrows, na_values, keep_default_na, na_filter, verbose, parse_dates, date_parser, date_format, thousands, decimal, comment, skipfooter, storage_options, dtype_backend)\u001b[0m\n\u001b[0;32m    476\u001b[0m \u001b[38;5;28;01mif\u001b[39;00m \u001b[38;5;129;01mnot\u001b[39;00m \u001b[38;5;28misinstance\u001b[39m(io, ExcelFile):\n\u001b[0;32m    477\u001b[0m     should_close \u001b[38;5;241m=\u001b[39m \u001b[38;5;28;01mTrue\u001b[39;00m\n\u001b[1;32m--> 478\u001b[0m     io \u001b[38;5;241m=\u001b[39m ExcelFile(io, storage_options\u001b[38;5;241m=\u001b[39mstorage_options, engine\u001b[38;5;241m=\u001b[39mengine)\n\u001b[0;32m    479\u001b[0m \u001b[38;5;28;01melif\u001b[39;00m engine \u001b[38;5;129;01mand\u001b[39;00m engine \u001b[38;5;241m!=\u001b[39m io\u001b[38;5;241m.\u001b[39mengine:\n\u001b[0;32m    480\u001b[0m     \u001b[38;5;28;01mraise\u001b[39;00m \u001b[38;5;167;01mValueError\u001b[39;00m(\n\u001b[0;32m    481\u001b[0m         \u001b[38;5;124m\"\u001b[39m\u001b[38;5;124mEngine should not be specified when passing \u001b[39m\u001b[38;5;124m\"\u001b[39m\n\u001b[0;32m    482\u001b[0m         \u001b[38;5;124m\"\u001b[39m\u001b[38;5;124man ExcelFile - ExcelFile already has the engine set\u001b[39m\u001b[38;5;124m\"\u001b[39m\n\u001b[0;32m    483\u001b[0m     )\n",
      "File \u001b[1;32m~\\anaconda3\\Lib\\site-packages\\pandas\\io\\excel\\_base.py:1496\u001b[0m, in \u001b[0;36mExcelFile.__init__\u001b[1;34m(self, path_or_buffer, engine, storage_options)\u001b[0m\n\u001b[0;32m   1494\u001b[0m     ext \u001b[38;5;241m=\u001b[39m \u001b[38;5;124m\"\u001b[39m\u001b[38;5;124mxls\u001b[39m\u001b[38;5;124m\"\u001b[39m\n\u001b[0;32m   1495\u001b[0m \u001b[38;5;28;01melse\u001b[39;00m:\n\u001b[1;32m-> 1496\u001b[0m     ext \u001b[38;5;241m=\u001b[39m inspect_excel_format(\n\u001b[0;32m   1497\u001b[0m         content_or_path\u001b[38;5;241m=\u001b[39mpath_or_buffer, storage_options\u001b[38;5;241m=\u001b[39mstorage_options\n\u001b[0;32m   1498\u001b[0m     )\n\u001b[0;32m   1499\u001b[0m     \u001b[38;5;28;01mif\u001b[39;00m ext \u001b[38;5;129;01mis\u001b[39;00m \u001b[38;5;28;01mNone\u001b[39;00m:\n\u001b[0;32m   1500\u001b[0m         \u001b[38;5;28;01mraise\u001b[39;00m \u001b[38;5;167;01mValueError\u001b[39;00m(\n\u001b[0;32m   1501\u001b[0m             \u001b[38;5;124m\"\u001b[39m\u001b[38;5;124mExcel file format cannot be determined, you must specify \u001b[39m\u001b[38;5;124m\"\u001b[39m\n\u001b[0;32m   1502\u001b[0m             \u001b[38;5;124m\"\u001b[39m\u001b[38;5;124man engine manually.\u001b[39m\u001b[38;5;124m\"\u001b[39m\n\u001b[0;32m   1503\u001b[0m         )\n",
      "File \u001b[1;32m~\\anaconda3\\Lib\\site-packages\\pandas\\io\\excel\\_base.py:1371\u001b[0m, in \u001b[0;36minspect_excel_format\u001b[1;34m(content_or_path, storage_options)\u001b[0m\n\u001b[0;32m   1368\u001b[0m \u001b[38;5;28;01mif\u001b[39;00m \u001b[38;5;28misinstance\u001b[39m(content_or_path, \u001b[38;5;28mbytes\u001b[39m):\n\u001b[0;32m   1369\u001b[0m     content_or_path \u001b[38;5;241m=\u001b[39m BytesIO(content_or_path)\n\u001b[1;32m-> 1371\u001b[0m \u001b[38;5;28;01mwith\u001b[39;00m get_handle(\n\u001b[0;32m   1372\u001b[0m     content_or_path, \u001b[38;5;124m\"\u001b[39m\u001b[38;5;124mrb\u001b[39m\u001b[38;5;124m\"\u001b[39m, storage_options\u001b[38;5;241m=\u001b[39mstorage_options, is_text\u001b[38;5;241m=\u001b[39m\u001b[38;5;28;01mFalse\u001b[39;00m\n\u001b[0;32m   1373\u001b[0m ) \u001b[38;5;28;01mas\u001b[39;00m handle:\n\u001b[0;32m   1374\u001b[0m     stream \u001b[38;5;241m=\u001b[39m handle\u001b[38;5;241m.\u001b[39mhandle\n\u001b[0;32m   1375\u001b[0m     stream\u001b[38;5;241m.\u001b[39mseek(\u001b[38;5;241m0\u001b[39m)\n",
      "File \u001b[1;32m~\\anaconda3\\Lib\\site-packages\\pandas\\io\\common.py:868\u001b[0m, in \u001b[0;36mget_handle\u001b[1;34m(path_or_buf, mode, encoding, compression, memory_map, is_text, errors, storage_options)\u001b[0m\n\u001b[0;32m    859\u001b[0m         handle \u001b[38;5;241m=\u001b[39m \u001b[38;5;28mopen\u001b[39m(\n\u001b[0;32m    860\u001b[0m             handle,\n\u001b[0;32m    861\u001b[0m             ioargs\u001b[38;5;241m.\u001b[39mmode,\n\u001b[1;32m   (...)\u001b[0m\n\u001b[0;32m    864\u001b[0m             newline\u001b[38;5;241m=\u001b[39m\u001b[38;5;124m\"\u001b[39m\u001b[38;5;124m\"\u001b[39m,\n\u001b[0;32m    865\u001b[0m         )\n\u001b[0;32m    866\u001b[0m     \u001b[38;5;28;01melse\u001b[39;00m:\n\u001b[0;32m    867\u001b[0m         \u001b[38;5;66;03m# Binary mode\u001b[39;00m\n\u001b[1;32m--> 868\u001b[0m         handle \u001b[38;5;241m=\u001b[39m \u001b[38;5;28mopen\u001b[39m(handle, ioargs\u001b[38;5;241m.\u001b[39mmode)\n\u001b[0;32m    869\u001b[0m     handles\u001b[38;5;241m.\u001b[39mappend(handle)\n\u001b[0;32m    871\u001b[0m \u001b[38;5;66;03m# Convert BytesIO or file objects passed with an encoding\u001b[39;00m\n",
      "\u001b[1;31mFileNotFoundError\u001b[0m: [Errno 2] No such file or directory: 'C:\\\\Users\\\\Coral\\\\Desktop\\\\Master\\\\Estadistica\\\\Documentacion_estadistica\\\\datosejercicioevaluacionanchuras.xlsx'"
     ]
    }
   ],
   "source": [
    "# Lectura archivo xlsx\n",
    "import os\n",
    "directorio = os.getcwd()\n",
    "ruta = os.path.join(directorio, \"datosejercicioevaluacionanchuras.xlsx\")\n",
    "datos = pd.read_excel(ruta)\n",
    "print(datos.head())"
   ]
  },
  {
   "cell_type": "code",
   "execution_count": null,
   "id": "dffb2e30",
   "metadata": {},
   "outputs": [],
   "source": [
    "# Subgrupos\n",
    "\n",
    "temprano = datos[datos['Época histórica'] == 1]['Anchura del cráneo']\n",
    "tardio = datos[datos['Época histórica'] == 2]['Anchura del cráneo']"
   ]
  },
  {
   "cell_type": "code",
   "execution_count": null,
   "id": "1917f0aa",
   "metadata": {},
   "outputs": [],
   "source": [
    "temprano"
   ]
  },
  {
   "cell_type": "markdown",
   "id": "343a2cba",
   "metadata": {},
   "source": [
    "### Ejercicio 1"
   ]
  },
  {
   "cell_type": "markdown",
   "id": "609f231f",
   "metadata": {},
   "source": [
    "##### Apartado a"
   ]
  },
  {
   "cell_type": "code",
   "execution_count": null,
   "id": "1949176a",
   "metadata": {},
   "outputs": [],
   "source": [
    "# Medidas\n",
    "\n",
    "medidas_temp = temprano.describe()\n",
    "max_temp = max(temprano)\n",
    "moda_temp = mode(temprano)\n",
    "rango_temp = max(temprano) - min(temprano)\n",
    "var_temp = np.var(temprano)\n",
    "coef_pearson_temp = np.std(temprano) / np.mean(temprano)\n",
    "coef_fisher_temp = skew(temprano)\n",
    "coef_curtosis_temp = kurtosis(temprano)\n",
    "\n",
    "medidas_tard = tardio.describe()\n",
    "max_tard = max(tardio)\n",
    "moda_tard = mode(tardio)\n",
    "rango_tard = max(tardio) - min(tardio)\n",
    "var_tard = np.var(tardio)\n",
    "coef_pearson_tard = np.std(tardio) / np.mean(tardio)\n",
    "coef_fisher_tard = skew(tardio)\n",
    "coef_curtosis_tard = kurtosis(tardio)"
   ]
  },
  {
   "cell_type": "code",
   "execution_count": null,
   "id": "b52c18a3",
   "metadata": {},
   "outputs": [],
   "source": [
    "# Histograma\n",
    "\n",
    "plt.figure(figsize=(10, 6))\n",
    "plt.hist(temprano, bins=10, alpha=0.5, label='Predinástico temprano', color='lightcoral')\n",
    "plt.hist(tardio, bins=10, alpha=0.5, label='Predinástico tardío', color='aquamarine')\n",
    "plt.title('Histograma de anchura de cráneos por época histórica', fontsize=14)\n",
    "plt.xlabel('Anchura del cráneo (mm)', fontsize=12)\n",
    "plt.ylabel('Frecuencia', fontsize=12)\n",
    "plt.legend()\n",
    "plt.show()"
   ]
  },
  {
   "cell_type": "code",
   "execution_count": null,
   "id": "a89f65dc",
   "metadata": {},
   "outputs": [],
   "source": [
    "# Diagramas de caja y bigotes\n",
    "\n",
    "# Predinástico temprano\n",
    "\n",
    "plt.figure(figsize=(8, 6))\n",
    "sns.boxplot(y=temprano, color='lightcoral', width = 0.5, medianprops=dict(color='red'))\n",
    "plt.title('Predinástico temprano')\n",
    "plt.ylabel('Anchura del cráneo (mm)')\n",
    "plt.show()\n",
    "\n",
    "# Predinástico tardío\n",
    "\n",
    "plt.figure(figsize=(8, 6))\n",
    "sns.boxplot(y=tardio, color='aquamarine', width = 0.5, medianprops=dict(color='red'))\n",
    "plt.title('Predinástico tardío')\n",
    "plt.ylabel('Anchura del cráneo (mm)')\n",
    "plt.show()"
   ]
  },
  {
   "cell_type": "markdown",
   "id": "01272517",
   "metadata": {},
   "source": [
    "##### Apartado b"
   ]
  },
  {
   "cell_type": "code",
   "execution_count": null,
   "id": "fb77625e",
   "metadata": {},
   "outputs": [],
   "source": [
    "temp_norm = (temprano - np.mean(temprano)) / np.std(temprano)\n",
    "tard_norm = (tardio - np.mean(tardio)) / np.std(tardio)\n",
    "\n",
    "\n",
    "temp_norm = (temprano - np.min(temprano)) / rango_temp\n",
    "tard_norm = (tardio - np.min(tardio)) / rango_tard\n",
    "\n",
    "temp_norm = temprano - np.mean(temprano)\n",
    "tard_norm = tardio - np.mean(tardio)"
   ]
  },
  {
   "cell_type": "code",
   "execution_count": null,
   "id": "8efcb3ba",
   "metadata": {},
   "outputs": [],
   "source": [
    "# test para el subgrupo temprano test kolmogorov smirnov\n",
    "ks_statistic_temp, p_value_temp = kstest(temp_norm, 'norm')\n",
    "# pvalor = 0 no se rech la h0, los datos siguen una distribucion normal\n",
    "# test para el subgrupo tardio\n",
    "ks_statistic_tard, p_value_tard = kstest(tard_norm, 'norm')\n",
    "# pvalor = 0  se rech la h0, los datos no siguen una distribucion normal"
   ]
  },
  {
   "cell_type": "code",
   "execution_count": null,
   "id": "a3e1d3c0",
   "metadata": {},
   "outputs": [],
   "source": [
    "# test shapiro wilks\n",
    "sp_statistic_temp, p_value_temp = shapiro(temprano)\n",
    "sp_statistic_temp, p_value_tard = shapiro(tardio)"
   ]
  },
  {
   "cell_type": "markdown",
   "id": "c7b03d0f",
   "metadata": {},
   "source": [
    "### Ejercicio 2"
   ]
  },
  {
   "cell_type": "code",
   "execution_count": null,
   "id": "b2c00934",
   "metadata": {},
   "outputs": [],
   "source": [
    "media_temprano = np.mean(temprano)\n",
    "media_tardio = np.mean(tardio)\n",
    "std_temprano = np.std(temprano, ddof=1)  # Usamos ddof=1 para calcular la desviación estándar muestral\n",
    "std_tardio = np.std(tardio, ddof=1)"
   ]
  },
  {
   "cell_type": "code",
   "execution_count": null,
   "id": "3472b360",
   "metadata": {},
   "outputs": [],
   "source": [
    "# Tamaño de las muestras\n",
    "n_temprano = len(temprano)\n",
    "n_tardio = len(tardio)"
   ]
  },
  {
   "cell_type": "code",
   "execution_count": null,
   "id": "a50efd05",
   "metadata": {},
   "outputs": [],
   "source": [
    "# Calcular la diferencia entre las medias\n",
    "diff_medias = media_temprano - media_tardio\n",
    "\n",
    "# Calcular los errores estándar de la diferencia de medias\n",
    "stderr_diff = np.sqrt((std_temprano**2 / n_temprano) + (std_tardio**2 / n_tardio))\n",
    "\n",
    "# Definir los grados de libertad\n",
    "df = n_temprano + n_tardio - 2"
   ]
  },
  {
   "cell_type": "code",
   "execution_count": null,
   "id": "2cd39b38",
   "metadata": {},
   "outputs": [],
   "source": [
    "# Calcular los valores t críticos para los niveles de confianza especificados (0.9, 0.95, 0.99)\n",
    "t_critical_90 = t.ppf(0.95, df)  # 0.9 de nivel de confianza (dos colas)\n",
    "t_critical_95 = t.ppf(0.975, df)  # 0.95 de nivel de confianza (dos colas)\n",
    "t_critical_99 = t.ppf(0.995, df)  # 0.99 de nivel de confianza (dos colas)"
   ]
  },
  {
   "cell_type": "code",
   "execution_count": null,
   "id": "cf8d7f9f",
   "metadata": {},
   "outputs": [],
   "source": [
    "# Calcular los límites inferior y superior para cada nivel de confianza\n",
    "ci_90_lower = diff_medias - t_critical_90 * stderr_diff\n",
    "ci_90_upper = diff_medias + t_critical_90 * stderr_diff\n",
    "\n",
    "ci_95_lower = diff_medias - t_critical_95 * stderr_diff\n",
    "ci_95_upper = diff_medias + t_critical_95 * stderr_diff\n",
    "\n",
    "ci_99_lower = diff_medias - t_critical_99 * stderr_diff\n",
    "ci_99_upper = diff_medias + t_critical_99 * stderr_diff\n",
    "\n",
    "print(\"Intervalo de confianza del 90%:\", (ci_90_lower, ci_90_upper))\n",
    "print(\"Intervalo de confianza del 95%:\", (ci_95_lower, ci_95_upper))\n",
    "print(\"Intervalo de confianza del 99%:\", (ci_99_lower, ci_99_upper))"
   ]
  },
  {
   "cell_type": "code",
   "execution_count": null,
   "id": "552991de",
   "metadata": {},
   "outputs": [],
   "source": []
  },
  {
   "cell_type": "code",
   "execution_count": null,
   "id": "b362c833",
   "metadata": {},
   "outputs": [],
   "source": []
  },
  {
   "cell_type": "code",
   "execution_count": null,
   "id": "429ca982",
   "metadata": {},
   "outputs": [],
   "source": []
  },
  {
   "cell_type": "code",
   "execution_count": null,
   "id": "7b7ad410",
   "metadata": {},
   "outputs": [],
   "source": []
  },
  {
   "cell_type": "code",
   "execution_count": null,
   "id": "71ca2f77",
   "metadata": {},
   "outputs": [],
   "source": []
  },
  {
   "cell_type": "code",
   "execution_count": null,
   "id": "d4dce29d",
   "metadata": {},
   "outputs": [],
   "source": []
  },
  {
   "cell_type": "code",
   "execution_count": null,
   "id": "9ddd40bc",
   "metadata": {},
   "outputs": [],
   "source": []
  },
  {
   "cell_type": "code",
   "execution_count": null,
   "id": "98156061",
   "metadata": {},
   "outputs": [],
   "source": []
  },
  {
   "cell_type": "code",
   "execution_count": null,
   "id": "b442bab4",
   "metadata": {},
   "outputs": [],
   "source": []
  },
  {
   "cell_type": "code",
   "execution_count": null,
   "id": "bcccc256",
   "metadata": {},
   "outputs": [],
   "source": []
  }
 ],
 "metadata": {
  "kernelspec": {
   "display_name": "Python 3 (ipykernel)",
   "language": "python",
   "name": "python3"
  },
  "language_info": {
   "codemirror_mode": {
    "name": "ipython",
    "version": 3
   },
   "file_extension": ".py",
   "mimetype": "text/x-python",
   "name": "python",
   "nbconvert_exporter": "python",
   "pygments_lexer": "ipython3",
   "version": "3.11.5"
  }
 },
 "nbformat": 4,
 "nbformat_minor": 5
}
