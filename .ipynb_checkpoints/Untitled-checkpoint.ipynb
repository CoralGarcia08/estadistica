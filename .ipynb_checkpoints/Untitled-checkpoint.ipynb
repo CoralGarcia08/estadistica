{
 "cells": [
  {
   "cell_type": "code",
   "execution_count": null,
   "id": "254c8edf",
   "metadata": {},
   "outputs": [],
   "source": [
    "# Carga de librerías\n",
    "import pandas as pd\n",
    "import numpy as np\n",
    "import matplotlib.pyplot as plt\n",
    "import seaborn as sns\n",
    "from scipy.stats import mode, skew, kurtosis, t\n",
    "from scipy.stats import kstest, norm\n",
    "from scipy.stats import shapiro"
   ]
  },
  {
   "cell_type": "code",
   "execution_count": null,
   "id": "0b890d0e",
   "metadata": {},
   "outputs": [],
   "source": [
    "# Lectura archivo xlsx\n",
    "ruta = \"datosejercicioevaluacionanchuras.xlsx\"\n",
    "datos = pd.read_excel(ruta)\n",
    "print(datos.head())"
   ]
  },
  {
   "cell_type": "code",
   "execution_count": null,
   "id": "d9f7e32d",
   "metadata": {},
   "outputs": [],
   "source": [
    "# Subgrupos \n",
    "temprano = datos[datos['Época histórica'] == 1]['Anchura del cráneo']\n",
    "tardio = datos[datos['Época histórica'] == 2]['Anchura del cráneo']"
   ]
  },
  {
   "cell_type": "markdown",
   "id": "014b319d",
   "metadata": {},
   "source": [
    "### Ejercicio 1"
   ]
  },
  {
   "cell_type": "markdown",
   "id": "69be9e6d",
   "metadata": {},
   "source": [
    "##### Apartado a"
   ]
  },
  {
   "cell_type": "code",
   "execution_count": null,
   "id": "cabc8351",
   "metadata": {},
   "outputs": [],
   "source": [
    "# Medidas\n",
    "\n",
    "medidas_temp = temprano.describe()\n",
    "max_temp = max(temprano)\n",
    "moda_temp = mode(temprano)\n",
    "rango_temp = max(temprano) - min(temprano)\n",
    "var_temp = np.var(temprano)\n",
    "coef_pearson_temp = np.std(temprano) / np.mean(temprano)\n",
    "coef_fisher_temp = skew(temprano)\n",
    "coef_curtosis_temp = kurtosis(temprano)\n",
    "\n",
    "medidas_tard = tardio.describe()\n",
    "max_tard = max(tardio)\n",
    "moda_tard = mode(tardio)\n",
    "rango_tard = max(tardio) - min(tardio)\n",
    "var_tard = np.var(tardio)\n",
    "coef_pearson_tard = np.std(tardio) / np.mean(tardio)\n",
    "coef_fisher_tard = skew(tardio)\n",
    "coef_curtosis_tard = kurtosis(tardio)"
   ]
  },
  {
   "cell_type": "code",
   "execution_count": null,
   "id": "f4607434",
   "metadata": {},
   "outputs": [],
   "source": [
    "# Histograma\n",
    "\n",
    "plt.figure(figsize=(10, 6))\n",
    "plt.hist(temprano, bins=10, alpha=0.5, label='Predinástico temprano', color='lightcoral')\n",
    "plt.hist(tardio, bins=10, alpha=0.5, label='Predinástico tardío', color='aquamarine')\n",
    "plt.title('Histograma de anchura de cráneos por época histórica', fontsize=14)\n",
    "plt.xlabel('Anchura del cráneo (mm)', fontsize=12)\n",
    "plt.ylabel('Frecuencia', fontsize=12)\n",
    "plt.legend()\n",
    "plt.show()"
   ]
  },
  {
   "cell_type": "code",
   "execution_count": null,
   "id": "d6947ff3",
   "metadata": {},
   "outputs": [],
   "source": [
    "# Diagramas de caja y bigotes\n",
    "\n",
    "# Predinástico temprano\n",
    "\n",
    "plt.figure(figsize=(8, 6))\n",
    "sns.boxplot(y=temprano, color='lightcoral', width = 0.5, medianprops=dict(color='red'))\n",
    "plt.title('Predinástico temprano')\n",
    "plt.ylabel('Anchura del cráneo (mm)')\n",
    "plt.show()\n",
    "\n",
    "# Predinástico tardío\n",
    "\n",
    "plt.figure(figsize=(8, 6))\n",
    "sns.boxplot(y=tardio, color='aquamarine', width = 0.5, medianprops=dict(color='red'))\n",
    "plt.title('Predinástico tardío')\n",
    "plt.ylabel('Anchura del cráneo (mm)')\n",
    "plt.show()"
   ]
  },
  {
   "cell_type": "markdown",
   "id": "308f7f9d",
   "metadata": {},
   "source": [
    "##### Apartado b"
   ]
  },
  {
   "cell_type": "code",
   "execution_count": null,
   "id": "c52c70bd",
   "metadata": {},
   "outputs": [],
   "source": [
    "temp_norm = (temprano - np.mean(temprano)) / np.std(temprano)\n",
    "tard_norm = (tardio - np.mean(tardio)) / np.std(tardio)\n",
    "\n",
    "\n",
    "temp_norm = (temprano - np.min(temprano)) / rango_temp\n",
    "tard_norm = (tardio - np.min(tardio)) / rango_tard\n",
    "\n",
    "temp_norm = temprano - np.mean(temprano)\n",
    "tard_norm = tardio - np.mean(tardio)"
   ]
  },
  {
   "cell_type": "code",
   "execution_count": null,
   "id": "736eeb2d",
   "metadata": {},
   "outputs": [],
   "source": [
    "# test para el subgrupo temprano test kolmogorov smirnov\n",
    "ks_statistic_temp, p_value_temp = kstest(temp_norm, 'norm')\n",
    "# pvalor = 0 no se rech la h0, los datos siguen una distribucion normal\n",
    "# test para el subgrupo tardio\n",
    "ks_statistic_tard, p_value_tard = kstest(tard_norm, 'norm')\n",
    "# pvalor = 0  se rech la h0, los datos no siguen una distribucion normal"
   ]
  },
  {
   "cell_type": "code",
   "execution_count": null,
   "id": "911bc484",
   "metadata": {},
   "outputs": [],
   "source": [
    "# test shapiro wilks\n",
    "sp_statistic_temp, p_value_temp = shapiro(temprano)\n",
    "sp_statistic_temp, p_value_tard = shapiro(tardio)"
   ]
  },
  {
   "cell_type": "markdown",
   "id": "7aa020ea",
   "metadata": {},
   "source": [
    "### Ejercicio 2"
   ]
  },
  {
   "cell_type": "code",
   "execution_count": null,
   "id": "10091fd4",
   "metadata": {},
   "outputs": [],
   "source": [
    "media_temprano = np.mean(temprano)\n",
    "media_tardio = np.mean(tardio)\n",
    "std_temprano = np.std(temprano, ddof=1)  # Usamos ddof=1 para calcular la desviación estándar muestral\n",
    "std_tardio = np.std(tardio, ddof=1)"
   ]
  },
  {
   "cell_type": "code",
   "execution_count": null,
   "id": "487db354",
   "metadata": {},
   "outputs": [],
   "source": [
    "# Tamaño de las muestras\n",
    "n_temprano = len(temprano)\n",
    "n_tardio = len(tardio)"
   ]
  },
  {
   "cell_type": "code",
   "execution_count": null,
   "id": "a1789666",
   "metadata": {},
   "outputs": [],
   "source": [
    "# Calcular la diferencia entre las medias\n",
    "diff_medias = media_temprano - media_tardio\n",
    "\n",
    "# Calcular los errores estándar de la diferencia de medias\n",
    "stderr_diff = np.sqrt((std_temprano**2 / n_temprano) + (std_tardio**2 / n_tardio))\n",
    "\n",
    "# Definir los grados de libertad\n",
    "df = n_temprano + n_tardio - 2"
   ]
  },
  {
   "cell_type": "code",
   "execution_count": null,
   "id": "225da70a",
   "metadata": {},
   "outputs": [],
   "source": [
    "# Calcular los valores t críticos para los niveles de confianza especificados (0.9, 0.95, 0.99)\n",
    "t_critical_90 = t.ppf(0.95, df)  # 0.9 de nivel de confianza (dos colas)\n",
    "t_critical_95 = t.ppf(0.975, df)  # 0.95 de nivel de confianza (dos colas)\n",
    "t_critical_99 = t.ppf(0.995, df)  # 0.99 de nivel de confianza (dos colas)"
   ]
  },
  {
   "cell_type": "code",
   "execution_count": null,
   "id": "3246a6ba",
   "metadata": {},
   "outputs": [],
   "source": [
    "# Calcular los límites inferior y superior para cada nivel de confianza\n",
    "ci_90_lower = diff_medias - t_critical_90 * stderr_diff\n",
    "ci_90_upper = diff_medias + t_critical_90 * stderr_diff\n",
    "\n",
    "ci_95_lower = diff_medias - t_critical_95 * stderr_diff\n",
    "ci_95_upper = diff_medias + t_critical_95 * stderr_diff\n",
    "\n",
    "ci_99_lower = diff_medias - t_critical_99 * stderr_diff\n",
    "ci_99_upper = diff_medias + t_critical_99 * stderr_diff\n",
    "\n",
    "print(\"Intervalo de confianza del 90%:\", (ci_90_lower, ci_90_upper))\n",
    "print(\"Intervalo de confianza del 95%:\", (ci_95_lower, ci_95_upper))\n",
    "print(\"Intervalo de confianza del 99%:\", (ci_99_lower, ci_99_upper))"
   ]
  },
  {
   "cell_type": "code",
   "execution_count": null,
   "id": "8b4b8ee0",
   "metadata": {},
   "outputs": [],
   "source": []
  },
  {
   "cell_type": "code",
   "execution_count": null,
   "id": "0c719264",
   "metadata": {},
   "outputs": [],
   "source": []
  },
  {
   "cell_type": "code",
   "execution_count": null,
   "id": "6bf419b8",
   "metadata": {},
   "outputs": [],
   "source": []
  },
  {
   "cell_type": "code",
   "execution_count": null,
   "id": "5d7dc310",
   "metadata": {},
   "outputs": [],
   "source": []
  },
  {
   "cell_type": "code",
   "execution_count": null,
   "id": "ca6f888d",
   "metadata": {},
   "outputs": [],
   "source": []
  },
  {
   "cell_type": "code",
   "execution_count": null,
   "id": "cbdad532",
   "metadata": {},
   "outputs": [],
   "source": []
  },
  {
   "cell_type": "code",
   "execution_count": null,
   "id": "545cdb20",
   "metadata": {},
   "outputs": [],
   "source": []
  },
  {
   "cell_type": "code",
   "execution_count": null,
   "id": "19d1a782",
   "metadata": {},
   "outputs": [],
   "source": []
  },
  {
   "cell_type": "code",
   "execution_count": null,
   "id": "e5162164",
   "metadata": {},
   "outputs": [],
   "source": []
  },
  {
   "cell_type": "code",
   "execution_count": null,
   "id": "8cd6bba9",
   "metadata": {},
   "outputs": [],
   "source": []
  }
 ],
 "metadata": {
  "kernelspec": {
   "display_name": "Python 3 (ipykernel)",
   "language": "python",
   "name": "python3"
  },
  "language_info": {
   "codemirror_mode": {
    "name": "ipython",
    "version": 3
   },
   "file_extension": ".py",
   "mimetype": "text/x-python",
   "name": "python",
   "nbconvert_exporter": "python",
   "pygments_lexer": "ipython3",
   "version": "3.11.5"
  }
 },
 "nbformat": 4,
 "nbformat_minor": 5
}
